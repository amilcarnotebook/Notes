{
 "cells": [
  {
   "cell_type": "markdown",
   "metadata": {},
   "source": [
    "Hello word :)\n",
    "Aqui estaran las notas del curso basico de Python\n",
    "Recuerda como definimos algunas buenas practicas como la siguiente al crear cualquier programa"
   ]
  },
  {
   "cell_type": "code",
   "execution_count": 1,
   "metadata": {},
   "outputs": [],
   "source": [
    "def run():\n",
    "    pass\n",
    "\n",
    "if __name__=='__main__':\n",
    "    run()\n"
   ]
  },
  {
   "cell_type": "markdown",
   "metadata": {},
   "source": [
    "Operadores aritmeticos\n",
    "+ suma\n",
    "- resta\n",
    "* multiplicaciones\n",
    "/ division\n",
    "// division euclidea (Solo tomar la parte entera)\n",
    "% modulo (el residuo de la division euclidea)\n",
    "** exponente"
   ]
  },
  {
   "cell_type": "code",
   "execution_count": 3,
   "metadata": {},
   "outputs": [
    {
     "data": {
      "text/plain": [
       "6.0"
      ]
     },
     "execution_count": 3,
     "metadata": {},
     "output_type": "execute_result"
    }
   ],
   "source": [
    "5+5\n",
    "5-1\n",
    "7*7\n",
    "10/2\n",
    "21//5\n",
    "21%5\n",
    "5**2\n",
    "36**.5\n"
   ]
  },
  {
   "cell_type": "markdown",
   "metadata": {},
   "source": [
    "Variables, recuerda que deben de ser minusculas, no iniciar con un numero, palabras separadas por _\n",
    "El simbolo = hace referencia a que la variable que presede a este simbolo tomara el valor de lo que se indica posteriormente del simbolo ="
   ]
  },
  {
   "cell_type": "code",
   "execution_count": 5,
   "metadata": {},
   "outputs": [
    {
     "name": "stdout",
     "output_type": "stream",
     "text": [
      "8\n"
     ]
    }
   ],
   "source": [
    "num1=3\n",
    "num2=5\n",
    "print(num1+num2)\n",
    "resultado="
   ]
  },
  {
   "cell_type": "markdown",
   "metadata": {},
   "source": [
    "Tipos de datos:\n",
    "int     valor entero\n",
    "float   valor flotante\n",
    "str     tipo texto\n",
    "bool    True/False; 1/0"
   ]
  },
  {
   "cell_type": "markdown",
   "metadata": {},
   "source": [
    "str()\n",
    "Valor tipo texto; algo importante es concatenar el texto o variables, para poder imprimir variables podemos concatenar las variables de dos maneras diferente, con el simbolo \"+\" o \",\"\n",
    "Importante: para concatenar con el simbolo \"+\" todas las variables deben de ser del mismo tipo. Mientras que si usamos \",\" podremos usar diferentes tipos de datos.\n",
    "Personalmente uso comas en lugar de +"
   ]
  },
  {
   "cell_type": "code",
   "execution_count": 8,
   "metadata": {},
   "outputs": [
    {
     "name": "stdout",
     "output_type": "stream",
     "text": [
      "JesusAmilcar\n",
      "Jesus   Amilcar\n",
      "JesusJesusJesusJesusJesus\n"
     ]
    }
   ],
   "source": [
    "nombre1=\"Jesus\"\n",
    "nombre2=\"Amilcar\"\n",
    "print(nombre1+nombre2)\n",
    "print(nombre1, \" \",nombre2)\n",
    "print(nombre1*5)\n"
   ]
  },
  {
   "cell_type": "markdown",
   "metadata": {},
   "source": [
    "float() & int()\n",
    "son los tipos de datos mas similares\n",
    "Podemos usar los comandos de los nombres de los tipos de datos para cambiar las variables a otro tipo"
   ]
  },
  {
   "cell_type": "code",
   "execution_count": 10,
   "metadata": {},
   "outputs": [
    {
     "data": {
      "text/plain": [
       "12.5"
      ]
     },
     "execution_count": 10,
     "metadata": {},
     "output_type": "execute_result"
    }
   ],
   "source": [
    "x=int(5.5)\n",
    "y=2.5\n",
    "x*y"
   ]
  },
  {
   "cell_type": "markdown",
   "metadata": {},
   "source": [
    "bool()\n",
    "Los tipos booleanos solo puede tener dos valores: True y False\n",
    "o 1&0"
   ]
  },
  {
   "cell_type": "code",
   "execution_count": 12,
   "metadata": {},
   "outputs": [
    {
     "name": "stdout",
     "output_type": "stream",
     "text": [
      "Es estudiante?  True\n"
     ]
    }
   ],
   "source": [
    "estudiante=True\n",
    "print(\"Es estudiante? \",estudiante)"
   ]
  },
  {
   "cell_type": "markdown",
   "metadata": {},
   "source": [
    "Convertir las variables (un error comun al iniciar)\n"
   ]
  },
  {
   "cell_type": "code",
   "execution_count": 14,
   "metadata": {},
   "outputs": [
    {
     "name": "stdout",
     "output_type": "stream",
     "text": [
      "El doble de  2  es  22\n",
      "Que ha pasado?!\n"
     ]
    }
   ],
   "source": [
    "numero1=input(\"Escribe un numero: \")\n",
    "resultado=numero1*2\n",
    "print(\"El doble de \", numero1, \" es \",resultado)\n",
    "print(\"Que ha pasado?!\")"
   ]
  },
  {
   "cell_type": "markdown",
   "metadata": {},
   "source": [
    "Tranquilo, lo que ha pasado es que nuestro comnado input() toma valores y los guarda en nuestra variable en un str\n",
    "A contininuacion como resolverlo de una forma compacta. Y podemos hacer lo mismo con los diferentes tipos de datos"
   ]
  },
  {
   "cell_type": "code",
   "execution_count": 15,
   "metadata": {},
   "outputs": [
    {
     "name": "stdout",
     "output_type": "stream",
     "text": [
      "El doble de  2  es  4\n"
     ]
    }
   ],
   "source": [
    "numero1=int(input(\"Escribe un numero: \"))\n",
    "resultado=numero1*2\n",
    "print(\"El doble de \", numero1, \" es \",resultado)"
   ]
  },
  {
   "cell_type": "markdown",
   "metadata": {},
   "source": [
    "Operadores logicos\n",
    "and\n",
    "or\n",
    "not"
   ]
  },
  {
   "cell_type": "code",
   "execution_count": 20,
   "metadata": {},
   "outputs": [
    {
     "name": "stdout",
     "output_type": "stream",
     "text": [
      "False\n",
      "True\n",
      "False\n",
      "True\n"
     ]
    }
   ],
   "source": [
    "dinero=True\n",
    "libre=False\n",
    "print(dinero and libre)\n",
    "print(dinero or libre)\n",
    "print(not dinero)\n",
    "print(not(dinero and libre))"
   ]
  },
  {
   "cell_type": "markdown",
   "metadata": {},
   "source": [
    "OPERADORE DE COMPARACIÓN\n",
    "==  igual\n",
    "!=  diferente\n",
    "<   menor que\n",
    ">   mayor que\n",
    "<=  menor o igual que\n",
    ">=  mayor o igual que"
   ]
  },
  {
   "cell_type": "code",
   "execution_count": 21,
   "metadata": {},
   "outputs": [
    {
     "data": {
      "text/plain": [
       "True"
      ]
     },
     "execution_count": 21,
     "metadata": {},
     "output_type": "execute_result"
    }
   ],
   "source": [
    "numero1=5\n",
    "numero2=7\n",
    "numero1!=numero2"
   ]
  },
  {
   "cell_type": "markdown",
   "metadata": {},
   "source": [
    "Ejercicio 1: crear un programa al que le des tu dinero en pesos MX y te diga cuantos dolares tienes. \n",
    "Toma el valor del dolar en 19.93"
   ]
  },
  {
   "cell_type": "code",
   "execution_count": 27,
   "metadata": {},
   "outputs": [
    {
     "name": "stdout",
     "output_type": "stream",
     "text": [
      "Usted tiene: $ 16.11  dolares\n"
     ]
    }
   ],
   "source": [
    "pesos=float(input(\"¿Cuantos pesos mx tienes?\"))\n",
    "dolar=round(pesos/19.93,2)\n",
    "dolar=str(dolar)\n",
    "print(\"Usted tiene: $\",dolar,\" dolares\")\n"
   ]
  },
  {
   "cell_type": "markdown",
   "metadata": {},
   "source": [
    "round(Variable, cantidad de decimales)\n",
    "con ello nustra variable float() podras limitar el numero de decimales con los que se va a trabajar\n",
    "ahora lo mismo pero con la mitad de lineas de codigo\n"
   ]
  },
  {
   "cell_type": "code",
   "execution_count": 28,
   "metadata": {},
   "outputs": [
    {
     "name": "stdout",
     "output_type": "stream",
     "text": [
      "Usted tiene: $ 16.11  dolares\n"
     ]
    }
   ],
   "source": [
    "pesos=float(input(\"¿Cuantos pesos mx tienes?\"))\n",
    "print(\"Usted tiene: $\",str(round(pesos/19.93,2)),\" dolares\")"
   ]
  },
  {
   "cell_type": "markdown",
   "metadata": {},
   "source": [
    "CONDICIONALES: if, elif, else\n",
    "existe pass si no sabemos que vamos a poner en ese lugar pero que sabemos que si va a ir algo\n",
    "Atajo si estamos en consola corriendo codigo, no tenemos que escribir el nombre completo del archivo, podemos escribir solo las primeras letras y luego usar la tecla 'tab' y automaticamente sera autocompletado (si existe el archivo)"
   ]
  },
  {
   "cell_type": "code",
   "execution_count": 30,
   "metadata": {},
   "outputs": [
    {
     "name": "stdout",
     "output_type": "stream",
     "text": [
      "Alto! Eres menor de edad\n"
     ]
    }
   ],
   "source": [
    "#Ejemplo 1: if & else\n",
    "edad=int(input(\"Escribe tu edad: \"))\n",
    "if edad>= 18:\n",
    "    print(\"Adelante, eres mayor de edad\")\n",
    "else:\n",
    "    print(\"Alto! Eres menor de edad\")"
   ]
  },
  {
   "cell_type": "code",
   "execution_count": 34,
   "metadata": {},
   "outputs": [
    {
     "name": "stdout",
     "output_type": "stream",
     "text": [
      "Crack! Mission complete!\n"
     ]
    }
   ],
   "source": [
    "#Ejemplo 2: if, elif, else\n",
    "#Programa para decir si has pasado el semestre, con 7 como calificacion minima aprobatoria\n",
    "calificacion=float(input(\"Escribe tu calificacion(0-10): \"))\n",
    "if calificacion<7:\n",
    "    print(\"Reprobado! GG next\")\n",
    "elif calificacion>7 and calificacion<=10:\n",
    "    print(\"Crack! Mission complete!\")\n",
    "elif calificacion==7:\n",
    "    print(\"Panzado, apenas y no lo cuentas\")\n",
    "else:\n",
    "    print(\"Calificacion no valida\")\n"
   ]
  },
  {
   "cell_type": "markdown",
   "metadata": {},
   "source": [
    "Notas: a la hora de crear variables str(), podemos usar ' ', \" \" o \"\"\" \"\"\"\n",
    "Lo optimo será usar solo un tipo, para guardarlo como una convencion y tener un codigo mas limpio\n",
    "En el caso de las comillas triple \"\"\" \"\"\" es util a la hora de crear str() que contiene salto de linea"
   ]
  },
  {
   "cell_type": "markdown",
   "metadata": {},
   "source": [
    "Ejercicio 2:\n",
    "Crea un programa que convierta diferentes tipos de monedas a dolar"
   ]
  },
  {
   "cell_type": "code",
   "execution_count": 39,
   "metadata": {},
   "outputs": [
    {
     "name": "stdout",
     "output_type": "stream",
     "text": [
      "Pesos  Colombianos :  16000.0\n",
      "Usted tiene: $ 4.04  dolares\n"
     ]
    }
   ],
   "source": [
    "def convertor(moneda, valor):\n",
    "    x=float(input((\"¿Cuantos pesos \", moneda,\" tienes? \")))\n",
    "    print(\"Pesos \",moneda,\": $\",x)\n",
    "    x=round(x/valor,2)\n",
    "    print(\"Usted tiene: $\",x,\" dolares\")\n",
    "    pass\n",
    "\n",
    "\n",
    "menu=\"\"\"\n",
    "Bienvenido al conversor de moneda:\n",
    "1. Peso Mexicano\n",
    "2. Peso Argenito\n",
    "3. Peso Colombiano\n",
    "Elige una opcion: \"\"\"\n",
    "moneda=int(input(menu))\n",
    "if moneda==1:\n",
    "    dolar=19.93\n",
    "    convertor(\"Mexicanos\",dolar)\n",
    "elif moneda==2:\n",
    "    dolar=118.9\n",
    "    convertor(\"Argenitos\",dolar)\n",
    "elif moneda==3:\n",
    "    dolar=3963.33\n",
    "    convertor(\"Colombianos\",dolar)\n",
    "else:\n",
    "    print(\"Ups, esa no es una opcion valida\")"
   ]
  },
  {
   "cell_type": "markdown",
   "metadata": {},
   "source": [
    "Cadenas de caracteres\n",
    "variable.upper()        #\n",
    "variable.lower()        #\n",
    "variable.capitalize()   #Capitalizar lo que contega la variable\n",
    "variable.strip()        #Elimina espacios basura que hay al inicio o final de mi variable\n",
    "variable.replace('valor que sera remplazado', 'valor por el que será reemplazado')\n",
    "\n",
    "Indice de cadenas de caracteres: Usamos [], inicia del 0 hacia adelante\n",
    "variable[indice]        #Da el dato que esta guardado en esa posicion de la variable\n",
    "len(variable o \"Texto\") #Da como resultado el numero de caracteres que se le ha ingresado"
   ]
  },
  {
   "cell_type": "code",
   "execution_count": 45,
   "metadata": {},
   "outputs": [
    {
     "name": "stdout",
     "output_type": "stream",
     "text": [
      "JUAN ESCUTIA\n",
      "juan escutia\n",
      "Juan escutia\n",
      "JUAN ESCUTIA\n",
      "JUON ESCUTIO\n",
      "J\n",
      "12\n"
     ]
    }
   ],
   "source": [
    "x=input(\"Escribe tu nombre: \")\n",
    "#Hacer mayuscula el texto\n",
    "x=x.upper()\n",
    "print(x)\n",
    "#Hacer minuscula el texto\n",
    "print(x.lower())\n",
    "#Capitalize\n",
    "print(x.capitalize())\n",
    "#strip\n",
    "print(x.strip())\n",
    "#replace\n",
    "print(x.replace(\"A\",\"O\"))\n",
    "\n",
    "inicial=x[0]\n",
    "print(inicial)\n",
    "print(len(x))\n",
    "\n",
    "\n"
   ]
  },
  {
   "cell_type": "markdown",
   "metadata": {},
   "source": [
    "SLICES\n",
    "varible[indice donde se inicia:indice donde termina:cantidad de indices que se va a desplazar]\n",
    "variable[::-1] #pone el texto al reves\n"
   ]
  },
  {
   "cell_type": "code",
   "execution_count": 47,
   "metadata": {},
   "outputs": [
    {
     "data": {
      "text/plain": [
       "'ocsicnarF'"
      ]
     },
     "execution_count": 47,
     "metadata": {},
     "output_type": "execute_result"
    }
   ],
   "source": [
    "nombre=\"Francisco\"\n",
    "nombre[0]\n",
    "nombre[0:3]\n",
    "nombre[3:]\n",
    "nombre[1:7]\n",
    "nombre[0:7:2]\n",
    "nombre[::-1]\n"
   ]
  },
  {
   "cell_type": "markdown",
   "metadata": {},
   "source": [
    "Ejercicio 3: Crear un programa que diga si la frase o palabra es un palindromo o no"
   ]
  },
  {
   "cell_type": "code",
   "execution_count": 49,
   "metadata": {},
   "outputs": [
    {
     "name": "stdout",
     "output_type": "stream",
     "text": [
      "Juan es zurdo : No es un palindromo\n"
     ]
    }
   ],
   "source": [
    "def run():\n",
    "    frase=input(\"Escribe una palabra/frase: \")\n",
    "    palindromo=frase.lower().replace(\" \",\"\")\n",
    "    if palindromo==palindromo[::-1]:\n",
    "        print(frase,\": es un palindromo\")\n",
    "    else:\n",
    "        print(frase,\": No es un palindromo\")\n",
    "\n",
    "\n",
    "if __name__=='__main__':\n",
    "    run()"
   ]
  },
  {
   "cell_type": "markdown",
   "metadata": {},
   "source": [
    "Aprendamos de Bucles: realizar un comando una y otra vez de manera sencilla.\n",
    "Ciclo for & while\n",
    "for variable in range (valor por el que inicia, valor en el que termina):\n",
    "    #Escribe lo que se debe de repetir\n",
    "\n",
    "while x<y:  #Podemos usar cualquie operador\n",
    "    #Escribe lo que sera ejecutado hasta que la condicion se deje de cumplir"
   ]
  },
  {
   "cell_type": "markdown",
   "metadata": {},
   "source": [
    "Nota: CONSTANTES, estas son muy similares a las variables, se definen de una manera muuy similar, pero, estas son escritas completamente con MAYUSCULAS."
   ]
  },
  {
   "cell_type": "code",
   "execution_count": null,
   "metadata": {},
   "outputs": [],
   "source": [
    "#Ejemplo 4 while: calcular todas las potencias de 2 hasta tener como limite 1000\n",
    "def run():\n",
    "    LIMITE=100\n",
    "    contador=0\n",
    "\n",
    "    while (2**contador)<LIMITE:\n",
    "        x=(2**contador)\n",
    "        print('2 elevado a ', contador, ' es: ',x)\n",
    "        contador=contador+1\n",
    "\n",
    "\n",
    "if __name__=='__main__':\n",
    "    run()\n"
   ]
  },
  {
   "cell_type": "code",
   "execution_count": null,
   "metadata": {},
   "outputs": [],
   "source": [
    "#Ejemplo 5 for: imprimir los numeros del 1 al 20\n",
    "def run():\n",
    "    #for contador in range(21):\n",
    "    #    print(contador)\n",
    "\n",
    "    for contador in range(5,25,5):\n",
    "        print(contador)\n",
    "\n",
    "if __name__=='__main__':\n",
    "    run()"
   ]
  },
  {
   "cell_type": "markdown",
   "metadata": {},
   "source": [
    "NOTAS: Listas\n",
    "a=list(range(100))\n",
    "a=list[100]"
   ]
  },
  {
   "cell_type": "code",
   "execution_count": null,
   "metadata": {},
   "outputs": [],
   "source": [
    "#Adelando de listas:\n",
    "a=list(range(10))\n",
    "print(a)\n",
    "print(a[1])\n",
    "print(a[::-1])\n"
   ]
  },
  {
   "cell_type": "markdown",
   "metadata": {},
   "source": [
    "#Ejercicio 6: Recorrer una cadena de caracteres de un str()"
   ]
  },
  {
   "cell_type": "code",
   "execution_count": 74,
   "metadata": {},
   "outputs": [
    {
     "name": "stdout",
     "output_type": "stream",
     "text": [
      "j\n",
      "e\n",
      "s\n",
      "u\n",
      "s\n"
     ]
    }
   ],
   "source": [
    "def run():\n",
    "    nombre=input(\"Escribe tu nombre: \")\n",
    "    for letra in nombre:\n",
    "        print(letra.upper())\n",
    "\n",
    "def run1():\n",
    "    nombre=input(\"Escribe tu nombre: \")\n",
    "    for i in range(len(nombre)):\n",
    "        print(nombre[i])\n",
    "\n",
    "\n",
    "if __name__=='__main__':\n",
    "    #run()\n",
    "    run1()\n"
   ]
  },
  {
   "cell_type": "markdown",
   "metadata": {},
   "source": [
    "break & continue\n",
    "break: rompe/sale del ciclo\n",
    "continue: deja el ciclo actual y salta al ciclo siguiente"
   ]
  },
  {
   "cell_type": "code",
   "execution_count": null,
   "metadata": {},
   "outputs": [],
   "source": [
    "def e_con():\n",
    "    for contador in range(100):\n",
    "        if contador%2!=0:\n",
    "            continue\n",
    "        print(contador)\n",
    "\n",
    "def e_break():\n",
    "    for contador in range(10,20):\n",
    "        print(contador)\n",
    "        if contador==18:\n",
    "            break\n",
    "def e_break2():\n",
    "    texto=input(\"Escribe tus apellidos: \")\n",
    "    for i in texto:\n",
    "        print(i)\n",
    "        if i==\"o\":\n",
    "            break\n",
    "def run():\n",
    "    e_break2()\n",
    "\n",
    "if __name__=='__main__':\n",
    "    run()"
   ]
  },
  {
   "cell_type": "markdown",
   "metadata": {},
   "source": [
    "Congratulation! Has logrado aprender lo basico de Python. Ahora, es tiempo de un pequeño proyecto.\n",
    "El programa será una prueba de primalidad, es decir, le daras un numero al programa y este te dira si es un numero primo."
   ]
  },
  {
   "cell_type": "code",
   "execution_count": 99,
   "metadata": {},
   "outputs": [
    {
     "name": "stdout",
     "output_type": "stream",
     "text": [
      "2  es un numero primo\n"
     ]
    }
   ],
   "source": [
    "def prueba(num):\n",
    "    for i in range(2,num):\n",
    "        prima=num%i\n",
    "        if prima!=0:\n",
    "            return True\n",
    "        else:\n",
    "            return False\n",
    "\n",
    "def run():\n",
    "    num=int(input(\"Escribe un numero: \"))\n",
    "    #es_primo=prueba(num)\n",
    "    if prueba(num)==True or num==2:\n",
    "        print(num,\" es un numero primo\")\n",
    "    else:\n",
    "        print(num,\" no es un numero primo\")\n",
    "\n",
    "if __name__=='__main__':\n",
    "    run()\n"
   ]
  },
  {
   "cell_type": "markdown",
   "metadata": {},
   "source": [
    "Let's GO! Ejercicio: Crea un juego en el que debes de adivinar un numero, y te ira diciendo que si el numero a adivinar es mas grande o mas pequeño"
   ]
  },
  {
   "cell_type": "code",
   "execution_count": null,
   "metadata": {},
   "outputs": [],
   "source": [
    "import random\n",
    "\n",
    "def run():\n",
    "    compu=random.randint(1,100)\n",
    "    player=int(input(\"Escribe un numero del 1 al 100: \"))\n",
    "    while compu!=player:\n",
    "        if compu<player:\n",
    "            print(\"Tu numero es mayor\")\n",
    "        else:\n",
    "            print(\"Tu numero es menor\")\n",
    "        player=int(input(\"Elige otro numero: \"))\n",
    "        \n",
    "    print(\"Congratulation! El numero era: \",compu)\n",
    "\n",
    "if __name__=='__main__':\n",
    "    run()\n"
   ]
  },
  {
   "cell_type": "markdown",
   "metadata": {},
   "source": [
    "Listas: es una estructura de datos en la que podemos guardar varios y diferentes datos\n",
    "lista=[1,2,3,4,5,6,'hola']          #Como podemos crear una lista con cada uno de sus elementos\n",
    "list[i]                             #Seleccionar un elemto en una posicion i determinada de la lista\n",
    "lista=list(range(10))               #Como creamos una lista del tamaño deseado\n",
    "lista.append(agregado)              #Agregar elemto al final de la lista\n",
    "lista.pop(elemento a borrar)        #Hacer pop(botar o eliminar) de la lista\n",
    "lista[::-1]\n",
    "\n",
    "Ademas, con las listas podemos sumar una lista junto con otra como si fuera concatenar str()"
   ]
  },
  {
   "cell_type": "code",
   "execution_count": null,
   "metadata": {},
   "outputs": [],
   "source": [
    "\n",
    "sistema=[\"Sol\",\"Mercurio\",\"Venus\",\"Tierra\",\"Marte\",\"Jupiter\",\"Saturno\",\"Urano\",\"Neptuno\"]\n",
    "x=list(range(5))\n",
    "print(x)\n",
    "print(sistema[0])\n",
    "print(sistema.append('Pluton'))\n",
    "print(sistema.pop(0))\n",
    "print(sistema[::-1])\n",
    "for planeta in sistema:\n",
    "    print(planeta)\n"
   ]
  },
  {
   "cell_type": "markdown",
   "metadata": {},
   "source": [
    "tuplas: basicamente es lo mismo que una lista pero estas son estaticas, a diferencia de las listas que son dinamicas.\n",
    "A las tuplas no podemos agregar o eliminar elementos. \n",
    "La ventaja de usar tuplas recae en que son mas veloces, requiere menos memoria de nuestro equipo, por lo que es conveniente a la hora de hacer recorridos por ciclos como for, usar tuplas en lugar de listas\n",
    "tupla=(1,2,3,4,5)"
   ]
  },
  {
   "cell_type": "code",
   "execution_count": 9,
   "metadata": {},
   "outputs": [
    {
     "name": "stdout",
     "output_type": "stream",
     "text": [
      "1\n",
      "2\n",
      "3\n",
      "4\n",
      "5\n"
     ]
    }
   ],
   "source": [
    "tupla=(1,2,3,4,5)\n",
    "for i in tupla:\n",
    "    print(i)"
   ]
  },
  {
   "cell_type": "markdown",
   "metadata": {},
   "source": [
    "diccionarios:"
   ]
  },
  {
   "cell_type": "code",
   "execution_count": 2,
   "metadata": {},
   "outputs": [
    {
     "name": "stdout",
     "output_type": "stream",
     "text": [
      "Mexico\n",
      "Argentina\n",
      "Brazil\n",
      "Colombia\n",
      "123\n",
      "234\n",
      "345\n",
      "132\n",
      "Mexico  tiene  123\n",
      "Argentina  tiene  234\n",
      "Brazil  tiene  345\n",
      "Colombia  tiene  132\n"
     ]
    }
   ],
   "source": [
    "def explicacion():\n",
    "    mi_diccionario={\n",
    "        'llave1':1,\n",
    "        'llave2':2,\n",
    "        'llave3':3,\n",
    "    }\n",
    "    print(mi_diccionario['llave1'])\n",
    "    print(mi_diccionario['llave2'])\n",
    "    print(mi_diccionario['llave3'])\n",
    "\n",
    "def run():\n",
    "    poblacion={\n",
    "        'Mexico':123,\n",
    "        'Argentina':234,\n",
    "        'Brazil':345,\n",
    "        'Colombia':132,\n",
    "    }\n",
    "\n",
    "    for i in poblacion.keys():\n",
    "        print(i)\n",
    "\n",
    "    for i in poblacion.values():\n",
    "        print(i)\n",
    "\n",
    "    for k,v in poblacion.items():\n",
    "        print(k,\" tiene \",v)    \n",
    "\n",
    "\n",
    "if __name__=='__main__':\n",
    "    run()"
   ]
  },
  {
   "cell_type": "markdown",
   "metadata": {},
   "source": [
    "Password generator:"
   ]
  },
  {
   "cell_type": "code",
   "execution_count": 12,
   "metadata": {},
   "outputs": [
    {
     "name": "stdout",
     "output_type": "stream",
     "text": [
      "Tu contraseña es:  a f # O 1 F y ! D M A e P X ]\n"
     ]
    }
   ],
   "source": [
    "import random\n",
    "\n",
    "def gen_contra():\n",
    "    may=['A', 'B', 'C', 'D', 'E', 'F', 'G', 'H', 'I', 'J', 'K', 'L', 'M', 'N', 'Ñ', 'O', 'P', 'Q', 'R', 'S', 'T', 'U', 'V', 'X', 'Y', 'Z']\n",
    "    min=['a', 'b', 'c', 'd', 'e', 'f', 'g', 'h', 'i', 'j', 'k', 'l', 'm', 'n', 'ñ', 'o', 'p', 'q', 'r', 's', 't', 'u', 'v', 'x', 'y', 'z']\n",
    "    sim=['*', '+', '-', '/', '@', '_', '?', '!', '[', '{', '(', ')', '}', ']', ',', ';', '.', '>', '<', '~', '°', '^', '&', '$', '#', '\"']\n",
    "    num=['1', '2', '3', '4', '5', '6', '7', '8', '9', '0']\n",
    "\n",
    "    caracter=may+min+sim+num\n",
    "\n",
    "    contra=list(range(15))\n",
    "    for i in contra:\n",
    "        contra[i]=random.choice(caracter)\n",
    "\n",
    "    #Convierte la lista en un str(), join une todos los elementos de la lista pero unidor por elemento que esta definido entre las \"\"\n",
    "    contra=\" \".join(contra)\n",
    "    return(contra)\n",
    "\n",
    "def run():\n",
    "    contra=gen_contra()\n",
    "    print(\"Tu contraseña es: \",contra)\n",
    "\n",
    "if __name__=='__main__':\n",
    "    run()"
   ]
  },
  {
   "cell_type": "code",
   "execution_count": 7,
   "metadata": {},
   "outputs": [
    {
     "name": "stdout",
     "output_type": "stream",
     "text": [
      "[0, 1, 2, 3, 4, 5, 6, 7, 8, 9]\n",
      "0\n",
      "1\n",
      "2\n",
      "3\n",
      "4\n",
      "5\n",
      "6\n",
      "7\n",
      "8\n",
      "9\n"
     ]
    }
   ],
   "source": [
    "x=list(range(10))\n",
    "print(x)\n",
    "\n",
    "for i in x:\n",
    "    print(i)"
   ]
  }
 ],
 "metadata": {
  "interpreter": {
   "hash": "552443d2c1e0262c8b3f3fab3980b8f0dbcecd453553621b1232ab0b556da69c"
  },
  "kernelspec": {
   "display_name": "Python 3.7.1 ('rstudio')",
   "language": "python",
   "name": "python3"
  },
  "language_info": {
   "codemirror_mode": {
    "name": "ipython",
    "version": 3
   },
   "file_extension": ".py",
   "mimetype": "text/x-python",
   "name": "python",
   "nbconvert_exporter": "python",
   "pygments_lexer": "ipython3",
   "version": "3.7.1"
  },
  "orig_nbformat": 4
 },
 "nbformat": 4,
 "nbformat_minor": 2
}
